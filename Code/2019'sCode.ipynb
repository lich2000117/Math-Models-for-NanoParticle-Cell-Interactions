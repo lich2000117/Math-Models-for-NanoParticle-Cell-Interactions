{
 "cells": [
  {
   "cell_type": "code",
   "execution_count": 8,
   "metadata": {},
   "outputs": [],
   "source": [
    "from scipy.integrate import quad\n",
    "import sympy as smp\n",
    "import numpy as np\n"
   ]
  },
  {
   "cell_type": "markdown",
   "metadata": {},
   "source": [
    "### Symbolic Solve"
   ]
  },
  {
   "cell_type": "code",
   "execution_count": 3,
   "metadata": {},
   "outputs": [
    {
     "name": "stdout",
     "output_type": "stream",
     "text": [
      "(-a*cos(b*x) + b*sin(b*x))*exp(-a*x)/(a**2 + b**2)\n"
     ]
    }
   ],
   "source": [
    "\n",
    "### Symbolic Solve:\n",
    "\n",
    "# Set Symbols\n",
    "x = smp.symbols('x', real=True)\n",
    "a, b = smp.symbols('a b', real=True, positive=True)\n",
    "\n",
    "# Define Function F\n",
    "F = smp.cos(b*x)* smp.exp(-a*x)\n",
    "\n",
    "## Solve the function\n",
    "sol_2 = smp.integrate(F, x).simplify()\n",
    "print(sol_2)\n"
   ]
  },
  {
   "cell_type": "markdown",
   "metadata": {},
   "source": [
    "### Numerical Solve"
   ]
  },
  {
   "cell_type": "code",
   "execution_count": 6,
   "metadata": {},
   "outputs": [],
   "source": [
    "## Define Equation like this:\n",
    "def integrand(x, a, b):\n",
    "    return a*x**2 + b\n",
    "\n",
    "# Define Function Arguments\n",
    "args=(2,1)"
   ]
  },
  {
   "cell_type": "code",
   "execution_count": 9,
   "metadata": {},
   "outputs": [
    {
     "name": "stdout",
     "output_type": "stream",
     "text": [
      "Solution: -1.6668007527776414\n",
      "Error: 0.00025628032154401126\n"
     ]
    },
    {
     "name": "stderr",
     "output_type": "stream",
     "text": [
      "/tmp/ipykernel_2158/3789516116.py:3: IntegrationWarning: The integral is probably divergent, or slowly convergent.\n",
      "  result = quad(integrand, boundary[0], boundary[1], args=args)\n"
     ]
    }
   ],
   "source": [
    "## Define Upper and Lower bound\n",
    "boundary = [0, +np.inf]\n",
    "\n",
    "## Solve\n",
    "result = quad(integrand, boundary[0], boundary[1], args=args)\n",
    "print(\"Solution:\", result[0])\n",
    "print(\"Error:\", result[1])"
   ]
  },
  {
   "cell_type": "code",
   "execution_count": null,
   "metadata": {},
   "outputs": [],
   "source": []
  }
 ],
 "metadata": {
  "interpreter": {
   "hash": "916dbcbb3f70747c44a77c7bcd40155683ae19c65e1c03b4aa3499c5328201f1"
  },
  "kernelspec": {
   "display_name": "Python 3.8.10 64-bit",
   "language": "python",
   "name": "python3"
  },
  "language_info": {
   "codemirror_mode": {
    "name": "ipython",
    "version": 3
   },
   "file_extension": ".py",
   "mimetype": "text/x-python",
   "name": "python",
   "nbconvert_exporter": "python",
   "pygments_lexer": "ipython3",
   "version": "3.8.10"
  },
  "orig_nbformat": 4
 },
 "nbformat": 4,
 "nbformat_minor": 2
}
