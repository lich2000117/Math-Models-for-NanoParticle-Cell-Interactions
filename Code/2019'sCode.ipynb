{
 "cells": [
  {
   "cell_type": "code",
   "execution_count": 18,
   "metadata": {},
   "outputs": [],
   "source": [
    "from scipy.integrate import quad\n",
    "from sympy import init_printing, latex\n",
    "import sympy as smp\n",
    "import numpy as np\n",
    "init_printing(latex_printer=lambda *args, **kwargs: latex(*args, mul_symbol='dot', **kwargs))"
   ]
  },
  {
   "cell_type": "markdown",
   "metadata": {},
   "source": [
    "### Symbolic Solve"
   ]
  },
  {
   "cell_type": "markdown",
   "metadata": {},
   "source": [
    "Assumptions:\n",
    "    M_exp(t) = a*t^2+b*t+c\n",
    "    M_exp(t) is quadratic to time t.   \n",
    "    https://www.sciencedirect.com/topics/engineering/fluorescence-intensity"
   ]
  },
  {
   "cell_type": "code",
   "execution_count": 20,
   "metadata": {},
   "outputs": [
    {
     "data": {
      "text/latex": [
       "$\\displaystyle \\frac{S \\cdot SC \\cdot r \\cdot t \\cdot u \\cdot \\left(- 6 \\cdot C_{bio} \\cdot C_{pmt} \\cdot M_{background} + 2 \\cdot C_{bio} \\cdot C_{pmt} \\cdot a \\cdot t^{2} + 3 \\cdot C_{bio} \\cdot C_{pmt} \\cdot b \\cdot t + 6 \\cdot C_{bio} \\cdot C_{pmt} \\cdot c - 6 \\cdot M_{particle} \\cdot P_{cap}\\right)}{6 \\cdot M_{particle} \\cdot P_{cap} \\cdot V}$"
      ],
      "text/plain": [
       "           ⎛                                             2                    \n",
       "S⋅SC⋅r⋅t⋅u⋅⎝-6⋅C_bio⋅Cₚₘₜ⋅M_background + 2⋅C_bio⋅Cₚₘₜ⋅a⋅t  + 3⋅C_bio⋅Cₚₘₜ⋅b⋅t \n",
       "──────────────────────────────────────────────────────────────────────────────\n",
       "                                                6⋅M_particle⋅P_cap⋅V          \n",
       "\n",
       "                                     ⎞\n",
       "+ 6⋅C_bio⋅Cₚₘₜ⋅c - 6⋅M_particle⋅P_cap⎠\n",
       "──────────────────────────────────────\n",
       "                                      "
      ]
     },
     "execution_count": 20,
     "metadata": {},
     "output_type": "execute_result"
    }
   ],
   "source": [
    "\n",
    "\n",
    "\n",
    "### Symbolic Solve:\n",
    "\n",
    "# Set Symbols\n",
    "t = smp.symbols('t', real=True, positive=True)\n",
    "S, V, SC, r, P_cap, S_cap, u, \\\n",
    "    C_bio, C_pmt, M_background, M_particle,  = smp.symbols('S V SC r P_cap S_cap u C_bio C_pmt M_background M_particle', real=True, positive=True)\n",
    "\n",
    "# Define Function F\n",
    "# Assumption for M_exp_t\n",
    "a,b,c = smp.symbols('a b c', real=True)\n",
    "M_exp_t = a*t**2 + b*t + c\n",
    "P_assoc= C_bio*C_pmt*(M_exp_t-M_background)/M_particle\n",
    "F_cell = SC*r*((P_cap-P_assoc)/P_cap)*u\n",
    "F = -S/V*F_cell\n",
    "\n",
    "## Solve the function\n",
    "smp.integrate(F, t).simplify()\n"
   ]
  },
  {
   "cell_type": "markdown",
   "metadata": {},
   "source": [
    "### Numerical Solve"
   ]
  },
  {
   "cell_type": "code",
   "execution_count": 6,
   "metadata": {},
   "outputs": [],
   "source": [
    "## Define Equation like this:\n",
    "def integrand(x, a, b):\n",
    "    return a*x**2 + b\n",
    "\n",
    "# Define Function Arguments\n",
    "args=(2,1)"
   ]
  },
  {
   "cell_type": "code",
   "execution_count": 9,
   "metadata": {},
   "outputs": [
    {
     "name": "stdout",
     "output_type": "stream",
     "text": [
      "Solution: -1.6668007527776414\n",
      "Error: 0.00025628032154401126\n"
     ]
    },
    {
     "name": "stderr",
     "output_type": "stream",
     "text": [
      "/tmp/ipykernel_2158/3789516116.py:3: IntegrationWarning: The integral is probably divergent, or slowly convergent.\n",
      "  result = quad(integrand, boundary[0], boundary[1], args=args)\n"
     ]
    }
   ],
   "source": [
    "## Define Upper and Lower bound\n",
    "boundary = [0, +np.inf]\n",
    "\n",
    "## Solve\n",
    "result = quad(integrand, boundary[0], boundary[1], args=args)\n",
    "print(\"Solution:\", result[0])\n",
    "print(\"Error:\", result[1])"
   ]
  },
  {
   "cell_type": "code",
   "execution_count": null,
   "metadata": {},
   "outputs": [],
   "source": []
  }
 ],
 "metadata": {
  "interpreter": {
   "hash": "916dbcbb3f70747c44a77c7bcd40155683ae19c65e1c03b4aa3499c5328201f1"
  },
  "kernelspec": {
   "display_name": "Python 3.8.10 64-bit",
   "language": "python",
   "name": "python3"
  },
  "language_info": {
   "codemirror_mode": {
    "name": "ipython",
    "version": 3
   },
   "file_extension": ".py",
   "mimetype": "text/x-python",
   "name": "python",
   "nbconvert_exporter": "python",
   "pygments_lexer": "ipython3",
   "version": "3.8.10"
  },
  "orig_nbformat": 4
 },
 "nbformat": 4,
 "nbformat_minor": 2
}
